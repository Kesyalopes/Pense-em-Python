{
  "nbformat": 4,
  "nbformat_minor": 0,
  "metadata": {
    "colab": {
      "provenance": [],
      "authorship_tag": "ABX9TyMx1IwMaQoLaBYEw6t3v3b+",
      "include_colab_link": true
    },
    "kernelspec": {
      "name": "python3",
      "display_name": "Python 3"
    },
    "language_info": {
      "name": "python"
    }
  },
  "cells": [
    {
      "cell_type": "markdown",
      "metadata": {
        "id": "view-in-github",
        "colab_type": "text"
      },
      "source": [
        "<a href=\"https://colab.research.google.com/github/Kesyalopes/Pense-em-Python/blob/main/Cap%C3%ADtulo_1_A_jornada_do_programa.ipynb\" target=\"_parent\"><img src=\"https://colab.research.google.com/assets/colab-badge.svg\" alt=\"Open In Colab\"/></a>"
      ]
    },
    {
      "cell_type": "markdown",
      "source": [
        "# **Capitulo 1:** A jornada do programa"
      ],
      "metadata": {
        "id": "pSI0KyVkoWc8"
      }
    },
    {
      "cell_type": "markdown",
      "source": [
        "Habilidade de resolução de problemas"
      ],
      "metadata": {
        "id": "hoEVrHcMjToG"
      }
    },
    {
      "cell_type": "markdown",
      "source": [
        "Um **programa** é uma sequência de instruções que especifica como executar uma operação de computação."
      ],
      "metadata": {
        "id": "YOcresttjv0X"
      }
    },
    {
      "cell_type": "markdown",
      "source": [
        "**Entrada:** Receber dados do teclado, de um arquivo, da rede ou de algum outro dispositivo.\n"
      ],
      "metadata": {
        "id": "vtnOghxqkB1R"
      }
    },
    {
      "cell_type": "markdown",
      "source": [
        "**Saída:** Exibir dados na tela, salvá-los em um arquivo, enviá-los pela rede etc."
      ],
      "metadata": {
        "id": "Wa8PNtW3kVAB"
      }
    },
    {
      "cell_type": "markdown",
      "source": [
        "**Matemática:** Executar operações matemáticas básicas como adição e multiplicação."
      ],
      "metadata": {
        "id": "pHnlTmhOkiGc"
      }
    },
    {
      "cell_type": "markdown",
      "source": [
        "**Execução Condicional:** Verificar a existência de certas condições e executar o código adequado."
      ],
      "metadata": {
        "id": "j1UtNu8uktfL"
      }
    },
    {
      "cell_type": "markdown",
      "source": [
        "**Repetição:** Executar várias vezes alguma ação, normalmente com alumas variações."
      ],
      "metadata": {
        "id": "VlW1aOdXlBWE"
      }
    },
    {
      "cell_type": "markdown",
      "source": [
        "Programar é o processo de **quebrar uma tarefa grande e complexa em subtarefas cada vez menores**, até que estas sejam simpes o suficiente para serem executadas por uma dessas instruções básicas."
      ],
      "metadata": {
        "id": "sVmSw5FnlN_E"
      }
    },
    {
      "cell_type": "markdown",
      "source": [
        "**Interpretador:** é um programa que lê e nexecuta o código python."
      ],
      "metadata": {
        "id": "5TBZTAbmlr5N"
      }
    },
    {
      "cell_type": "markdown",
      "source": [
        "**Prompt(>>>):** indica que o interpretador esta pronto para você digitar o código."
      ],
      "metadata": {
        "id": "yJUVHF_9l3UM"
      }
    },
    {
      "cell_type": "code",
      "source": [
        "1 + 2 # operação de adição (+)"
      ],
      "metadata": {
        "colab": {
          "base_uri": "https://localhost:8080/"
        },
        "id": "NWO-C_awjs8w",
        "outputId": "18880921-4706-4f47-c846-b85c0b0064a7"
      },
      "execution_count": 1,
      "outputs": [
        {
          "output_type": "execute_result",
          "data": {
            "text/plain": [
              "3"
            ]
          },
          "metadata": {},
          "execution_count": 1
        }
      ]
    },
    {
      "cell_type": "markdown",
      "source": [
        "**print: (instrução de impressão)** Exibe um resultado na tela. Print é uma função em python."
      ],
      "metadata": {
        "id": "Xt_N7nJrjTMQ"
      }
    },
    {
      "cell_type": "code",
      "source": [
        "print(\"Hello, world!\") # Exibe palavras/resultados na tela"
      ],
      "metadata": {
        "colab": {
          "base_uri": "https://localhost:8080/"
        },
        "id": "-1GZFRSpmg_5",
        "outputId": "5361828f-248a-4e56-97e0-e80d4c63063b"
      },
      "execution_count": 2,
      "outputs": [
        {
          "output_type": "stream",
          "name": "stdout",
          "text": [
            "Hello, world!\n"
          ]
        }
      ]
    },
    {
      "cell_type": "markdown",
      "source": [
        " As **aspa (\" \")** marcam o começo e o fim do texto a ser exibido; elas não aparecem no resultado."
      ],
      "metadata": {
        "id": "SRlLMMfsnlkJ"
      }
    },
    {
      "cell_type": "markdown",
      "source": [
        "Os **parênteses ( )**  indica que o print é uma função."
      ],
      "metadata": {
        "id": "lEwBqifVnt7x"
      }
    },
    {
      "cell_type": "markdown",
      "source": [
        "# Operadores aritméticos"
      ],
      "metadata": {
        "id": "NoJfrY5joFF7"
      }
    },
    {
      "cell_type": "code",
      "source": [
        "50 + 10 # ADIÇÃO (+)"
      ],
      "metadata": {
        "colab": {
          "base_uri": "https://localhost:8080/"
        },
        "id": "0cIwzi45nkQw",
        "outputId": "fcdcc31b-9dea-43a2-dffc-bc859716cfaf"
      },
      "execution_count": 3,
      "outputs": [
        {
          "output_type": "execute_result",
          "data": {
            "text/plain": [
              "60"
            ]
          },
          "metadata": {},
          "execution_count": 3
        }
      ]
    },
    {
      "cell_type": "code",
      "source": [
        "30 - 10 # SUBTRAÇÃO (-)"
      ],
      "metadata": {
        "colab": {
          "base_uri": "https://localhost:8080/"
        },
        "id": "DrxyUTqepDxg",
        "outputId": "d0d1f73b-6f28-492c-9391-098b06671481"
      },
      "execution_count": 4,
      "outputs": [
        {
          "output_type": "execute_result",
          "data": {
            "text/plain": [
              "20"
            ]
          },
          "metadata": {},
          "execution_count": 4
        }
      ]
    },
    {
      "cell_type": "code",
      "source": [
        "3 * 9 # MULTIPLICAÇÃO (*)"
      ],
      "metadata": {
        "colab": {
          "base_uri": "https://localhost:8080/"
        },
        "id": "_2ALdu8spPKD",
        "outputId": "57d7c42b-0772-4216-8e56-a790f020b611"
      },
      "execution_count": 5,
      "outputs": [
        {
          "output_type": "execute_result",
          "data": {
            "text/plain": [
              "27"
            ]
          },
          "metadata": {},
          "execution_count": 5
        }
      ]
    },
    {
      "cell_type": "code",
      "source": [
        "2 ** 3 # EXPONENCIAÇÃO (**)"
      ],
      "metadata": {
        "colab": {
          "base_uri": "https://localhost:8080/"
        },
        "id": "RmLAxjLxpV8y",
        "outputId": "59804d73-6f3f-470b-ff16-b763684ad4c9"
      },
      "execution_count": 6,
      "outputs": [
        {
          "output_type": "execute_result",
          "data": {
            "text/plain": [
              "8"
            ]
          },
          "metadata": {},
          "execution_count": 6
        }
      ]
    },
    {
      "cell_type": "code",
      "source": [
        "6 / 2 # DIVISÃO (/)"
      ],
      "metadata": {
        "colab": {
          "base_uri": "https://localhost:8080/"
        },
        "id": "8X6gofktpd_8",
        "outputId": "3fccab83-9c3b-4405-c534-4df4f5702528"
      },
      "execution_count": 7,
      "outputs": [
        {
          "output_type": "execute_result",
          "data": {
            "text/plain": [
              "3.0"
            ]
          },
          "metadata": {},
          "execution_count": 7
        }
      ]
    },
    {
      "cell_type": "markdown",
      "source": [
        "# Valores e Tipos"
      ],
      "metadata": {
        "id": "pJWfLaD5pm5T"
      }
    },
    {
      "cell_type": "markdown",
      "source": [
        "Existem **tipos** diferentes de **valores** em python.\n",
        "**EXEMPLO:**\n",
        "\n",
        "1.   **Inteiro** (int);\n",
        "2.   **Número de ponto flutuante** (float);\n",
        "3.   **String** (str) -> sequência de letras em cadeia.\n",
        "\n"
      ],
      "metadata": {
        "id": "PqCVOVGFrsRc"
      }
    },
    {
      "cell_type": "markdown",
      "source": [
        "**type( ) ->** Serve para saber qual é o tip daquele valor.\n",
        "**\"Class\" ->** Categoria; um tipo é uma categoria de valores."
      ],
      "metadata": {
        "id": "ufmPcb2xtble"
      }
    },
    {
      "cell_type": "code",
      "source": [
        "type(2) # tipo inteiro (int)"
      ],
      "metadata": {
        "colab": {
          "base_uri": "https://localhost:8080/"
        },
        "id": "e-amenZPtS43",
        "outputId": "22a43d55-e3c0-4e07-d223-1d5db448d6ec"
      },
      "execution_count": 8,
      "outputs": [
        {
          "output_type": "execute_result",
          "data": {
            "text/plain": [
              "int"
            ]
          },
          "metadata": {},
          "execution_count": 8
        }
      ]
    },
    {
      "cell_type": "code",
      "source": [
        "type(3.14) # tipo ponto flutuante (float)"
      ],
      "metadata": {
        "colab": {
          "base_uri": "https://localhost:8080/"
        },
        "id": "u8arVDFwps1j",
        "outputId": "b7d3e73e-7fe9-4906-f9a5-87ef44bcf918"
      },
      "execution_count": 9,
      "outputs": [
        {
          "output_type": "execute_result",
          "data": {
            "text/plain": [
              "float"
            ]
          },
          "metadata": {},
          "execution_count": 9
        }
      ]
    },
    {
      "cell_type": "code",
      "source": [
        "type(\"maria\") # tipo string (str)"
      ],
      "metadata": {
        "colab": {
          "base_uri": "https://localhost:8080/"
        },
        "id": "lOIZHMC8uSup",
        "outputId": "fc3ae0ae-881e-4639-afd5-140f5b5aa888"
      },
      "execution_count": 11,
      "outputs": [
        {
          "output_type": "execute_result",
          "data": {
            "text/plain": [
              "str"
            ]
          },
          "metadata": {},
          "execution_count": 11
        }
      ]
    },
    {
      "cell_type": "markdown",
      "source": [
        "Os **valores com aspas dentro do type** mesmo sendo int ou float se tornam **string**.\n",
        "\n"
      ],
      "metadata": {
        "id": "UqnDtGm5uqB8"
      }
    },
    {
      "cell_type": "code",
      "source": [
        "type(\"3\")"
      ],
      "metadata": {
        "colab": {
          "base_uri": "https://localhost:8080/"
        },
        "id": "fhw4ak37vRD8",
        "outputId": "03196ba9-687a-4057-f5f6-0918a4a58e2a"
      },
      "execution_count": 13,
      "outputs": [
        {
          "output_type": "execute_result",
          "data": {
            "text/plain": [
              "str"
            ]
          },
          "metadata": {},
          "execution_count": 13
        }
      ]
    },
    {
      "cell_type": "code",
      "source": [
        "type(\"3.6\")"
      ],
      "metadata": {
        "colab": {
          "base_uri": "https://localhost:8080/"
        },
        "id": "itVqwf05udEQ",
        "outputId": "ced00b63-ce6b-4965-bfe8-3cd610c33ecc"
      },
      "execution_count": 14,
      "outputs": [
        {
          "output_type": "execute_result",
          "data": {
            "text/plain": [
              "str"
            ]
          },
          "metadata": {},
          "execution_count": 14
        }
      ]
    },
    {
      "cell_type": "markdown",
      "source": [
        "Ao digitar um **número inteiro grande em python** não devemos separar usando vígulas, o python vai intepretar como uma sequência de números inteiros separados por vírgulas."
      ],
      "metadata": {
        "id": "F09XU98SwI9D"
      }
    },
    {
      "cell_type": "markdown",
      "source": [
        "# Linguagens formais e naturais"
      ],
      "metadata": {
        "id": "SMTOVR1wwuWp"
      }
    },
    {
      "cell_type": "markdown",
      "source": [
        "**Linguagens naturais:** são idiomas que as pessoas falam e que se desenvolvem naturalmente."
      ],
      "metadata": {
        "id": "v96sS6iQw0HJ"
      }
    },
    {
      "cell_type": "markdown",
      "source": [
        "**Linguagens formais:** são linguagens criadas pelas pessoas para aplicações específicas."
      ],
      "metadata": {
        "id": "wNXSo0Njy4fO"
      }
    },
    {
      "cell_type": "markdown",
      "source": [
        "**As linguagens de programação são idiomas formais criados para expressar operações de computação.**"
      ],
      "metadata": {
        "id": "TT6hNmdszIsf"
      }
    },
    {
      "cell_type": "markdown",
      "source": [
        "Nas linguagens formais existem regras de **sintaxe** escritas que governam a estrutura de declarações.\n",
        "\n",
        "\n",
        "1.   **símbolos ->** precisam ser legítimos\n",
        "2.   **estrutura ->** são combinados\n",
        "\n"
      ],
      "metadata": {
        "id": "JSSxHOh2zWXo"
      }
    },
    {
      "cell_type": "markdown",
      "source": [],
      "metadata": {
        "id": "xGlDXMhczy0S"
      }
    },
    {
      "cell_type": "markdown",
      "source": [
        "Em uma linguagem formal é preciso compreender a estrutura. Este processo é chamado de **análise**"
      ],
      "metadata": {
        "id": "Gl1dtBoX0Zfz"
      }
    },
    {
      "cell_type": "markdown",
      "source": [
        "**Ambiguidade:** (Na programação) um dado programa deve ter uma única interpretação."
      ],
      "metadata": {
        "id": "Y7ECdadM06f9"
      }
    },
    {
      "cell_type": "markdown",
      "source": [
        "**Redundância:** (Na programação) são menos redundântes e mais concisas (precisas)."
      ],
      "metadata": {
        "id": "dNoz_T9m1Fy8"
      }
    },
    {
      "cell_type": "markdown",
      "source": [
        "**Literalidade:** (Na programação) significados exatamente iguais ao que expressam."
      ],
      "metadata": {
        "id": "-pBd-sm41kiN"
      }
    },
    {
      "cell_type": "markdown",
      "source": [
        "**Programas:** O significado de um programa de computadr é inequívoco e literal e pode ser entendido inteiramente pela análise dos símbolos e da estrutura."
      ],
      "metadata": {
        "id": "_O41USmY16om"
      }
    },
    {
      "cell_type": "markdown",
      "source": [
        "# Depuração"
      ],
      "metadata": {
        "id": "A4AGSrrO27n-"
      }
    },
    {
      "cell_type": "markdown",
      "source": [
        "Erros em programação são chamados de **bugs** (insetos) e o processo de rastreá-los  chama-se **depuração** (debugging)."
      ],
      "metadata": {
        "id": "CDZ_WBSf2_Nm"
      }
    },
    {
      "cell_type": "markdown",
      "source": [
        "# Glossário:"
      ],
      "metadata": {
        "id": "n1KiQn4H3Yo1"
      }
    },
    {
      "cell_type": "markdown",
      "source": [],
      "metadata": {
        "id": "Y6u_va4K3t_l"
      }
    }
  ]
}